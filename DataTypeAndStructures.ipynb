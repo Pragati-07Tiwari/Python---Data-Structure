{
  "nbformat": 4,
  "nbformat_minor": 0,
  "metadata": {
    "colab": {
      "provenance": []
    },
    "kernelspec": {
      "name": "python3",
      "display_name": "Python 3"
    },
    "language_info": {
      "name": "python"
    }
  },
  "cells": [
    {
      "cell_type": "markdown",
      "source": [],
      "metadata": {
        "id": "h4VVFIHHFCLW"
      }
    },
    {
      "cell_type": "markdown",
      "source": [
        "#DATA TYPES AND STRUCTURES QUESTIONS\n"
      ],
      "metadata": {
        "id": "4_kev2GfFQjv"
      }
    },
    {
      "cell_type": "markdown",
      "source": [
        "1. What are data structures, and why are they important?\n",
        "\n",
        "   ->Data structures are organized ways to store and manage data so it can be used efficiently.\n",
        "\n",
        "   ->They are important because they help in optimizing operations like searching, sorting, and accessing data, making programs faster and more efficient.  \n",
        "\n",
        "\n",
        "2. Explain the difference between mutable and immutable data types with     examples.\n",
        "\n",
        "   ->Mutable data types can be changed after creation.\n",
        "    Mutable: list, dict, set.\n",
        "    → e.g. a = [1, 2, 3]; a.append(4) changes the list.\n",
        "\n",
        "   ->Immutable data types cannot be modified once created.\n",
        "    Immutable: int, str, tuple\n",
        "    → e.g. b = \"hello\"; b[0] = \"H\" it won't add it.\n",
        "\n",
        "3.  What are the main differences between lists and tuples in Python?\n",
        "\n",
        "    ->The main difference between lists and tuples are that lists are mutable which means->we can change it after creation.\n",
        "\n",
        "    ->And tuples are immutable-> we can't change or modify the content once its is created.                \n",
        "\n",
        "  \n",
        "4. Describe how dictionaries store data?\n",
        "\n",
        "   ->Dictionaries are a datatype in python which stores data in form of key     value paires.\n",
        "\n",
        "   #Syntax\n",
        "\n",
        "   dict={\"key\":\"value\",\n",
        "         \"key\":\"value\",\n",
        "         \"key\":\"value\"..\n",
        "   }\n",
        "\n",
        "   #How it stores data\n",
        "   ->Dictionaries store data in key–value pairs.\n",
        "   ->Each key is unique and acts as an index to its value.\n",
        "\n",
        "   #Example\n",
        "   student_details={\"name\":\"Pragati\",\"age\": 20,\"Course\":\"BCA\"}\n",
        "\n",
        "\n",
        "5. Why might you use a set instead of a list in Python?\n",
        "\n",
        "   ->We might use a set when we need to perform mathematical operations like    union, intersection, or difference between collections — something lists don’t support directly.  \n",
        "\n",
        "   ->It is used to store unique elements and in sets order of elements doesn,t matter.\n",
        "\n",
        "   #Example\n",
        "   nums = {1, 2, 3, 3} → automatically becomes {1, 2, 3}\n",
        "\n",
        "\n",
        "6. What is a string in Python, and how is it different from a list?\n",
        "\n",
        "   ->A string in python is a sequence of characters enclosed in \"\", ''.\n",
        "\n",
        "   ->it is immutable.\n",
        "\n",
        "   ->it doesn't store elements of different datatypes.\n",
        "\n",
        "    #example\n",
        "    str=\"hello\"\n",
        "\n",
        "   ->On the other hand lists are mutable and can store elements of different datatypes like str,numbers etc.\n",
        "\n",
        "   #example\n",
        "   list=[\"hello\",89]\n",
        "\n",
        "\n",
        "7. How do tuples ensure data integrity in Python?\n",
        "\n",
        "   ->Tuples ensure data integrity in Python because they are immutable.\n",
        "    Once a tuple is created, its elements cannot be changed, added, or removed, preventing accidental modifications.\n",
        "\n",
        "\n",
        "\n",
        "8. What is a hash table, and how does it relate to dictionaries in Python?\n",
        "\n",
        "   ->A hash table is a data structure that stores data in key–value pairs.\n",
        "\n",
        "   ->It uses a hash function to find the index of a key for fast access.\n",
        "\n",
        "   ->dictionary uses hash table internally.\n",
        "\n",
        "   ->dictionaries are implemented using hash tables, which makes accessing,   adding, or deleting items very fast.\n",
        "\n",
        "\n",
        "9.  Can lists contain different data types in Python?\n",
        "\n",
        "    ->Yes, lists do contain elements of different data types.\n",
        "  \n",
        "      #example\n",
        "\n",
        "      list=[\"hello\",89]\n",
        "\n",
        "10.  Explain why strings are immutable in Python?\n",
        "\n",
        "     ->Strings are immutable in Python to ensure data safety and consistency.\n",
        "\n",
        "      ->Once a string is created, it cannot be changed, which allows Python to reuse string objects efficiently.  \n",
        "\n",
        "     #example\n",
        "     str=\"hello\"\n",
        "     str[2]=\"p\" -->it will not support\n",
        "\n",
        "\n",
        "11. What advantages do dictionaries offer over lists for certain tasks?\n",
        "\n",
        "     Dictionaries offer several advantages over lists for certain tasks...\n",
        "\n",
        "    ->Accessing a value by key is much faster than searching through a list.\n",
        "\n",
        "    ->Useful for storing and retrieving related data, like name–age pairs.\n",
        "\n",
        "    ->Ensures each key is unique.\n",
        "\n",
        "     #example\n",
        "     student = {\"name\": \"Pragati\", \"age\": 20}  # Fast access: student[\"age\"] ->20\n",
        "\n",
        "12.  Describe a scenario where using a tuple would be preferable over a list?\n",
        "\n",
        "     ->sing a tuple would be preferable over a list in some scenario where we want to store fixed, unchangeable data that should not be modified.\n",
        "\n",
        "     #example\n",
        "     -adharcard number or pan card number etc.\n",
        "\n",
        "\n",
        " 13.  How do sets handle duplicate values in Python?\n",
        "     \n",
        "      ->In Python, sets automatically remove duplicate values.\n",
        "\n",
        "      -> When we add elements, only unique items are stored, and any duplicates are ignored.\n",
        "       \n",
        "       #example\n",
        "       num={1,1,1,3,3,2,2,4,4}\n",
        "       print(num)--->{1,3,2,4}\n",
        "\n",
        "14.  How does the “in” keyword work differently for lists and dictionaries?\n",
        "\n",
        "     ->The \"in\" keyword is used to check membership. It returns True if the item exists in the collection, otherwise False.\n",
        "\n",
        "     Lists: Checks if a value exists in the list.\n",
        "\n",
        "     #example\n",
        "     lst = [1, 2, 3]\n",
        "     2 in lst  # True   \n",
        "\n",
        "     Dictionaries: Checks if a key exists (not the value).\n",
        "\n",
        "     #example\n",
        "      d = {\"a\": 10, \"b\": 20}\n",
        "     \"a\" in d  # True\n",
        "      10 in d   # False\n",
        "\n",
        "\n",
        "15. Can you modify the elements of a tuple? Explain why or why not?\n",
        "\n",
        "     WHY NOT->We can not modify the elements of tuple as it is immutable.\n",
        "\n",
        "     WHY->we could modify a tuple indirectly only if it contains mutable objects (like a list inside a tuple). The tuple itself still can’t be changed, but the mutable object inside it can be.\n",
        "\n",
        "\n",
        "     #example\n",
        "     tuple=(1,2,[3,4,5],8,9)\n",
        "     tuple[2].append(7)---The list inside tuple is modified.\n",
        "     print(tuple)-- output--(1,2,[3,4,5,7],8,9)\n",
        "\n",
        "16. What is a nested dictionary, and give an example of its use case?\n",
        "\n",
        "     ->A nested dictionary is a dictionary that contains another dictionary (or dictionaries) as its values.\n",
        "\n",
        "     ->It is useful for storing structured or hierarchical data.\n",
        "\n",
        "     #example\n",
        "     students = {\n",
        "    \"Riya\": {\"Math\": 90, \"Science\": 85},\n",
        "    \"Billu\": {\"Math\": 75, \"Science\": 80}\n",
        "     }\n",
        "\n",
        "     print(students[\"Riya\"][\"Math\"])  # Output: 90\n",
        "\n",
        "\n",
        "17. Describe the time complexity of accessing elements in a dictionary?\n",
        "\n",
        "     ->Accessing elements in a dictionary in Python has an average time complexity of O(1) (constant time) because dictionaries use a hash table internally.\n",
        "\n",
        "     ->This means no matter how many items are in the dictionary, finding value by its key takes roughly the same amount of time.\n",
        "\n",
        "\n",
        "     #example\n",
        "     d = {\"a\": 1, \"b\": 2, \"c\": 3}\n",
        "     print(d[\"b\"])  # takes time of O(1)\n",
        "\n",
        "\n",
        "\n",
        " 18. In what situations are lists preferred over dictionaries?\n",
        "  \n",
        "     ->Lists are preferred over dictionaries when:\n",
        "\n",
        "      -Order matters: You need to maintain the sequence of elements.\n",
        "\n",
        "      -Duplicate elements are allowed: Lists can store repeated values.\n",
        "\n",
        "      -Simple collections: You just need a collection of items without key–value pairs.   \n",
        "\n",
        "\n",
        "19. Why are dictionaries considered unordered, and how does that affect data retrieval?\n",
        "      ->Dictionaries are unordered because they store items using a hash table, not in a sequence.\n",
        "\n",
        "      ->This means you cannot get items by position; you must use the key to access values.\n",
        "\n",
        "      ->Effect: Data retrieval is still fast, but the order of items is not guaranteed.\n",
        "\n",
        "\n",
        "      #example\n",
        "      d = {\"a\": 1, \"b\": 2, \"c\": 3}\n",
        "      print(d[\"b\"])  # Must use key \"b\" to get value 2\n",
        "\n",
        "\n",
        " 20.  Explain the difference between a list and a dictionary in terms of data retrieval.     \n",
        "\n",
        "       ->List: Elements are accessed by index (position).\n",
        "\n",
        "        #example\n",
        "        lst = [10, 20, 30]\n",
        "        print(lst[1])  # Output: 20\n",
        "\n",
        "\n",
        "      ->Dictionary: Elements are accessed by key, not position.\n",
        "\n",
        "        #example\n",
        "        d = {\"a\": 10, \"b\": 20}\n",
        "        print(d[\"b\"])  # Output: 20\n",
        "      \n"
      ],
      "metadata": {
        "id": "mDl29joIFhHJ"
      }
    },
    {
      "cell_type": "code",
      "source": [],
      "metadata": {
        "id": "Uiw3NA-jy3DM"
      },
      "execution_count": null,
      "outputs": []
    },
    {
      "cell_type": "markdown",
      "source": [
        "#Practical Questions\n"
      ],
      "metadata": {
        "id": "5SwyyAvJy6r-"
      }
    },
    {
      "cell_type": "code",
      "source": [
        "# 1. Write a code to create a string with your name and print it.\n",
        "\n",
        "name=\"Pragati Tiwari\"\n",
        "print(name)"
      ],
      "metadata": {
        "colab": {
          "base_uri": "https://localhost:8080/"
        },
        "id": "15fiTUSszFvW",
        "outputId": "45ea4530-ed48-4034-c1e9-fff21e9bc089"
      },
      "execution_count": 3,
      "outputs": [
        {
          "output_type": "stream",
          "name": "stdout",
          "text": [
            "Pragati Tiwari\n"
          ]
        }
      ]
    },
    {
      "cell_type": "code",
      "source": [
        "# 2. Write a code to find the length of the string \"Hello World\".\n",
        "str=\"Hello World\"\n",
        "print(len(str))"
      ],
      "metadata": {
        "colab": {
          "base_uri": "https://localhost:8080/"
        },
        "id": "GgXqrQEKzCXr",
        "outputId": "76a359a0-0ac1-4825-f1aa-a8b5ba0e5d14"
      },
      "execution_count": 5,
      "outputs": [
        {
          "output_type": "stream",
          "name": "stdout",
          "text": [
            "11\n"
          ]
        }
      ]
    },
    {
      "cell_type": "code",
      "source": [
        "# 3. Write a code to slice the first 3 characters from the string \"Python Programming\".\n",
        "\n",
        "str= \"Python Programming\"\n",
        "print(str[0:3])\n"
      ],
      "metadata": {
        "colab": {
          "base_uri": "https://localhost:8080/"
        },
        "id": "DKVkhXpN0IXn",
        "outputId": "9d912012-5111-4979-cb92-67a90069f19a"
      },
      "execution_count": 6,
      "outputs": [
        {
          "output_type": "stream",
          "name": "stdout",
          "text": [
            "Pyt\n"
          ]
        }
      ]
    },
    {
      "cell_type": "code",
      "source": [
        "# 4. Write a code to convert the string \"hello\" to uppercase.\n",
        "str=\"hello\"\n",
        "print(str.upper())\n"
      ],
      "metadata": {
        "colab": {
          "base_uri": "https://localhost:8080/"
        },
        "id": "pHO3CAok0itR",
        "outputId": "99cd38f5-5c74-41d2-e003-e7e8d06c0f54"
      },
      "execution_count": 7,
      "outputs": [
        {
          "output_type": "stream",
          "name": "stdout",
          "text": [
            "HELLO\n"
          ]
        }
      ]
    },
    {
      "cell_type": "code",
      "source": [
        "# 5.Write a code to replace the word \"apple\" with \"orange\" in the string \"I like apple\".\n",
        "str =\"I like apple\"\n",
        "print(str.replace(\"apple\",\"orange\"))"
      ],
      "metadata": {
        "colab": {
          "base_uri": "https://localhost:8080/"
        },
        "id": "-pBi2Xwb00xt",
        "outputId": "d1430984-0a97-4c8c-dd4f-011ea0a24ac3"
      },
      "execution_count": 8,
      "outputs": [
        {
          "output_type": "stream",
          "name": "stdout",
          "text": [
            "I like orange\n"
          ]
        }
      ]
    },
    {
      "cell_type": "code",
      "source": [
        "# 6. Write a code to create a list with numbers 1 to 5 and print it.\n",
        "list=[1,2,3,4,5]\n",
        "print(list)"
      ],
      "metadata": {
        "colab": {
          "base_uri": "https://localhost:8080/"
        },
        "id": "T2fp1xW71Qoq",
        "outputId": "2be7509d-5547-4b3a-c9fe-4c361d63786a"
      },
      "execution_count": 9,
      "outputs": [
        {
          "output_type": "stream",
          "name": "stdout",
          "text": [
            "[1, 2, 3, 4, 5]\n"
          ]
        }
      ]
    },
    {
      "cell_type": "code",
      "source": [
        "# 7.Write a code to append the number 10 to the list [1, 2, 3, 4].\n",
        "list= [1, 2, 3, 4]\n",
        "list.append(10)\n",
        "print(list)\n"
      ],
      "metadata": {
        "colab": {
          "base_uri": "https://localhost:8080/"
        },
        "id": "M-Xnlk0o1jit",
        "outputId": "f169462c-0e67-4c8f-fa40-c0ece1a18a5f"
      },
      "execution_count": 14,
      "outputs": [
        {
          "output_type": "stream",
          "name": "stdout",
          "text": [
            "[1, 2, 3, 4, 10]\n"
          ]
        }
      ]
    },
    {
      "cell_type": "code",
      "source": [
        "# 8. Write a code to remove the number 3 from the list [1, 2, 3, 4, 5].\n",
        "list= [1, 2, 3, 4, 5]\n",
        "list.remove(3)\n",
        "print(list)"
      ],
      "metadata": {
        "colab": {
          "base_uri": "https://localhost:8080/"
        },
        "id": "5GkU9_wG2UXw",
        "outputId": "d680fcfe-e878-48eb-e4ca-80a330142b3f"
      },
      "execution_count": 15,
      "outputs": [
        {
          "output_type": "stream",
          "name": "stdout",
          "text": [
            "[1, 2, 4, 5]\n"
          ]
        }
      ]
    },
    {
      "cell_type": "code",
      "source": [
        "# 9. Write a code to access the second element in the list ['a', 'b', 'c', 'd'].\n",
        "list= ['a', 'b', 'c', 'd']\n",
        "print(list[1])"
      ],
      "metadata": {
        "colab": {
          "base_uri": "https://localhost:8080/"
        },
        "id": "yH6o_eLv2wx_",
        "outputId": "9e3712ca-9e63-4cbe-e533-d45fd919b1e1"
      },
      "execution_count": 16,
      "outputs": [
        {
          "output_type": "stream",
          "name": "stdout",
          "text": [
            "b\n"
          ]
        }
      ]
    },
    {
      "cell_type": "code",
      "source": [
        "# 10.  Write a code to reverse the list [10, 20, 30, 40, 50].\n",
        "list= [10, 20, 30, 40, 50]\n",
        "list.reverse()\n",
        "print(list)"
      ],
      "metadata": {
        "colab": {
          "base_uri": "https://localhost:8080/"
        },
        "id": "b3u15qfq3HSH",
        "outputId": "eeb164b2-866f-4a60-8be9-b57749af8b7d"
      },
      "execution_count": 22,
      "outputs": [
        {
          "output_type": "stream",
          "name": "stdout",
          "text": [
            "[50, 40, 30, 20, 10]\n"
          ]
        }
      ]
    },
    {
      "cell_type": "code",
      "source": [
        "# 11. Write a code to create a tuple with the elements 100, 200, 300 and print it.\n",
        "tuple=(100,200,300)\n",
        "print(tuple)"
      ],
      "metadata": {
        "colab": {
          "base_uri": "https://localhost:8080/"
        },
        "id": "vy-cgVE-4B_Q",
        "outputId": "21027e5b-db1b-407e-be47-dc848da0f1e2"
      },
      "execution_count": 23,
      "outputs": [
        {
          "output_type": "stream",
          "name": "stdout",
          "text": [
            "(100, 200, 300)\n"
          ]
        }
      ]
    },
    {
      "cell_type": "code",
      "source": [
        "# 12.Write a code to access the second-to-last element of the tuple ('red', 'green', 'blue', 'yellow').\n",
        "tuple= ('red', 'green', 'blue', 'yellow')\n",
        "print(tuple[1:4])"
      ],
      "metadata": {
        "colab": {
          "base_uri": "https://localhost:8080/"
        },
        "id": "zp0c8fE44QEh",
        "outputId": "7064cb7a-6f96-4f35-d33c-8c14a54843b4"
      },
      "execution_count": 27,
      "outputs": [
        {
          "output_type": "stream",
          "name": "stdout",
          "text": [
            "('green', 'blue', 'yellow')\n"
          ]
        }
      ]
    },
    {
      "cell_type": "code",
      "source": [
        "# 13.Write a code to find the minimum number in the tuple (10, 20, 5, 15).\n",
        "tuple= (10, 20, 5, 15)\n",
        "print(min(tuple))"
      ],
      "metadata": {
        "colab": {
          "base_uri": "https://localhost:8080/"
        },
        "id": "7E6ARxrd5NKa",
        "outputId": "45e56352-3a8c-471f-8115-ce4fef60103b"
      },
      "execution_count": 28,
      "outputs": [
        {
          "output_type": "stream",
          "name": "stdout",
          "text": [
            "5\n"
          ]
        }
      ]
    },
    {
      "cell_type": "code",
      "source": [
        "# 14. Write a code to find the index of the element \"cat\" in the tuple ('dog', 'cat', 'rabbit').\n",
        "tuple= ('dog', 'cat', 'rabbit')\n",
        "print(tuple.index('cat'))"
      ],
      "metadata": {
        "colab": {
          "base_uri": "https://localhost:8080/"
        },
        "id": "sw4ns2uC5ehy",
        "outputId": "62124434-5214-4a45-c2dc-db789d13e022"
      },
      "execution_count": 34,
      "outputs": [
        {
          "output_type": "stream",
          "name": "stdout",
          "text": [
            "1\n"
          ]
        }
      ]
    },
    {
      "cell_type": "code",
      "source": [
        "# 15. Write a code to create a tuple containing three different fruits and check if \"kiwi\" is in it.\n",
        "tuple=(\"apple\",\"banana\",\"kiwi\")\n",
        "print(\"kiwi\" in tuple)\n",
        "\n"
      ],
      "metadata": {
        "colab": {
          "base_uri": "https://localhost:8080/"
        },
        "id": "Wx2fTM3E6h84",
        "outputId": "28d971f8-ee59-48d9-a121-d55178b87e03"
      },
      "execution_count": 38,
      "outputs": [
        {
          "output_type": "stream",
          "name": "stdout",
          "text": [
            "False\n"
          ]
        }
      ]
    },
    {
      "cell_type": "code",
      "source": [
        "# 16. Write a code to create a set with the elements 'a', 'b', 'c' and print it.\n",
        "set={'a', 'b', 'c'}\n",
        "print(set)"
      ],
      "metadata": {
        "colab": {
          "base_uri": "https://localhost:8080/"
        },
        "id": "HDxy6QKc7RKL",
        "outputId": "1721a4ad-409c-4a6b-e0bf-136782668149"
      },
      "execution_count": 46,
      "outputs": [
        {
          "output_type": "stream",
          "name": "stdout",
          "text": [
            "{'c', 'a', 'b'}\n"
          ]
        }
      ]
    },
    {
      "cell_type": "code",
      "source": [
        "# 17. Write a code to clear all elements from the set {1, 2, 3, 4, 5}.\n",
        "set= {1, 2, 3, 4, 5}\n",
        "set.clear()\n",
        "print(set)"
      ],
      "metadata": {
        "colab": {
          "base_uri": "https://localhost:8080/"
        },
        "id": "vhUrTd3x7qcj",
        "outputId": "c87f7fd6-0efa-489a-aea1-0280e6b9d45e"
      },
      "execution_count": 47,
      "outputs": [
        {
          "output_type": "stream",
          "name": "stdout",
          "text": [
            "set()\n"
          ]
        }
      ]
    },
    {
      "cell_type": "code",
      "source": [
        "# 18. Write a code to remove the element 4 from the set {1, 2, 3, 4}.\n",
        "set= {1, 2, 3, 4}\n",
        "set.remove(4)\n",
        "print(set)"
      ],
      "metadata": {
        "colab": {
          "base_uri": "https://localhost:8080/"
        },
        "id": "FeXRuWea79ug",
        "outputId": "62c99a53-d15a-487a-e35a-e3860991a8e9"
      },
      "execution_count": 50,
      "outputs": [
        {
          "output_type": "stream",
          "name": "stdout",
          "text": [
            "{1, 2, 3}\n"
          ]
        }
      ]
    },
    {
      "cell_type": "code",
      "source": [
        "# 19. Write a code to find the union of two sets {1, 2, 3} and {3, 4, 5}.\n",
        "s1={1, 2, 3}\n",
        "s2={3, 4, 5}\n",
        "print(s1.union(s2))"
      ],
      "metadata": {
        "colab": {
          "base_uri": "https://localhost:8080/"
        },
        "id": "CsR7Jh9x8VC4",
        "outputId": "209f2f6b-8249-49bc-f0f2-c9f395c2c841"
      },
      "execution_count": 54,
      "outputs": [
        {
          "output_type": "stream",
          "name": "stdout",
          "text": [
            "{1, 2, 3, 4, 5}\n"
          ]
        }
      ]
    },
    {
      "cell_type": "code",
      "source": [
        "# 20. Write a code to find the intersection of two sets {1, 2, 3} and {2, 3, 4}.\n",
        "s1={1, 2, 3}\n",
        "s2={2, 3, 4}\n",
        "print(s1.intersection(s2))"
      ],
      "metadata": {
        "colab": {
          "base_uri": "https://localhost:8080/"
        },
        "id": "A6XIyBbX9EnK",
        "outputId": "80eb959a-f419-4cbe-d062-c744a3ac80e0"
      },
      "execution_count": 55,
      "outputs": [
        {
          "output_type": "stream",
          "name": "stdout",
          "text": [
            "{2, 3}\n"
          ]
        }
      ]
    },
    {
      "cell_type": "code",
      "source": [
        "# 21. Write a code to create a dictionary with the keys \"name\", \"age\", and \"city\", and print it.\n",
        "dict={\"name\":\"pragati\",\"age\":20,\"city\":\"Bhilai\"}\n",
        "print(dict)"
      ],
      "metadata": {
        "colab": {
          "base_uri": "https://localhost:8080/"
        },
        "id": "etatlcj69N77",
        "outputId": "19368ab6-7b5c-4313-b397-e308c4152783"
      },
      "execution_count": 56,
      "outputs": [
        {
          "output_type": "stream",
          "name": "stdout",
          "text": [
            "{'name': 'pragati', 'age': 20, 'city': 'Bhilai'}\n"
          ]
        }
      ]
    },
    {
      "cell_type": "code",
      "source": [
        "# 22. Write a code to add a new key-value pair \"country\": \"USA\" to the dictionary {'name': 'John', 'age': 25}.\n",
        "dict= {'name': 'John', 'age': 25}\n",
        "dict[\"country\"]=\"USA\"\n",
        "print(dict)"
      ],
      "metadata": {
        "colab": {
          "base_uri": "https://localhost:8080/"
        },
        "id": "3RpINyRg9s7k",
        "outputId": "1a1fe801-b095-4ab6-d835-a6e38d955461"
      },
      "execution_count": 59,
      "outputs": [
        {
          "output_type": "stream",
          "name": "stdout",
          "text": [
            "{'name': 'John', 'age': 25, 'country': 'USA'}\n"
          ]
        }
      ]
    },
    {
      "cell_type": "markdown",
      "source": [],
      "metadata": {
        "id": "R_Z7BI1ZNiAn"
      }
    },
    {
      "cell_type": "code",
      "source": [
        "# 23.Write a code to access the value associated with the key \"name\" in the dictionary {'name': 'Alice', 'age': 30}.\n",
        "dict= {'name': 'Alice', 'age': 30}\n",
        "print(dict[\"name\"])\n",
        "# print(dict.get(\"name\"))\n"
      ],
      "metadata": {
        "colab": {
          "base_uri": "https://localhost:8080/"
        },
        "id": "aSs6aAhA-fWi",
        "outputId": "fb570d01-db91-4cd4-b35a-895b83c566f8"
      },
      "execution_count": 62,
      "outputs": [
        {
          "output_type": "stream",
          "name": "stdout",
          "text": [
            "Alice\n",
            "Alice\n"
          ]
        }
      ]
    },
    {
      "cell_type": "code",
      "source": [
        "# 24. Write a code to remove the key \"age\" from the dictionary {'name': 'Bob', 'age': 22, 'city': 'New York'}.\n",
        "\n",
        "dict= {'name': 'Bob', 'age': 22, 'city': 'New York'}\n",
        "dict.pop(\"age\")\n",
        "print(dict)\n",
        "# can't use (.remove) here\n",
        "# using pop-- it removes key with value\n"
      ],
      "metadata": {
        "colab": {
          "base_uri": "https://localhost:8080/"
        },
        "id": "YpqrzpNB_QhR",
        "outputId": "fa9b0016-0ff7-4255-bc5e-0d15c496728c"
      },
      "execution_count": 64,
      "outputs": [
        {
          "output_type": "stream",
          "name": "stdout",
          "text": [
            "{'name': 'Bob', 'city': 'New York'}\n"
          ]
        }
      ]
    },
    {
      "cell_type": "code",
      "source": [
        "# 25. Write a code to check if the key \"city\" exists in the dictionary {'name': 'Alice', 'city': 'Paris'}.\n",
        "dict= {'name': 'Alice', 'city': 'Paris'}\n",
        "print(\"city\" in dict)"
      ],
      "metadata": {
        "colab": {
          "base_uri": "https://localhost:8080/"
        },
        "id": "zgrj_Um7AMXz",
        "outputId": "bf18a641-851b-4ff2-9c73-d344baf7909f"
      },
      "execution_count": 65,
      "outputs": [
        {
          "output_type": "stream",
          "name": "stdout",
          "text": [
            "True\n"
          ]
        }
      ]
    },
    {
      "cell_type": "code",
      "source": [
        "# 26. Write a code to create a list, a tuple, and a dictionary, and print them all.\n",
        "list=[1,2,3]\n",
        "print(list)\n",
        "tuple=(1,2,3)\n",
        "print(tuple)\n",
        "dict={\"name\":\"pragati\",\"age\":20,\"city\":\"Bhilai\"}\n",
        "print(dict)"
      ],
      "metadata": {
        "colab": {
          "base_uri": "https://localhost:8080/"
        },
        "id": "F9fnDChmAt3c",
        "outputId": "1cb12084-65bb-4871-ba66-3de3b531aad3"
      },
      "execution_count": 66,
      "outputs": [
        {
          "output_type": "stream",
          "name": "stdout",
          "text": [
            "[1, 2, 3]\n",
            "(1, 2, 3)\n",
            "{'name': 'pragati', 'age': 20, 'city': 'Bhilai'}\n"
          ]
        }
      ]
    },
    {
      "cell_type": "code",
      "source": [
        "# 27. Write a code to create a list of 5 random numbers between 1 and 100, sort it in ascending order, and print the\n",
        "# result.(replaced)\n",
        "import random\n",
        "list=[]\n",
        "for i in range(5):\n",
        "  list.append(random.randint(1,100))\n",
        "list.sort()\n",
        "print(list)\n",
        "\n"
      ],
      "metadata": {
        "colab": {
          "base_uri": "https://localhost:8080/"
        },
        "id": "ZwiVgVgvA4AC",
        "outputId": "033f7407-e089-4a44-97be-9fa07cdc60ef"
      },
      "execution_count": 71,
      "outputs": [
        {
          "output_type": "stream",
          "name": "stdout",
          "text": [
            "[12, 22, 80, 83, 89]\n"
          ]
        }
      ]
    },
    {
      "cell_type": "code",
      "source": [
        "# 28. Write a code to create a list with strings and print the element at the third index.\n",
        "list=[\"apple\",\"banana\",\"kiwi\"]\n",
        "print(list[2])"
      ],
      "metadata": {
        "colab": {
          "base_uri": "https://localhost:8080/"
        },
        "id": "UluXx_W8CLz_",
        "outputId": "b405a1b5-33b7-4b9e-debc-93e0ced46c1e"
      },
      "execution_count": 72,
      "outputs": [
        {
          "output_type": "stream",
          "name": "stdout",
          "text": [
            "kiwi\n"
          ]
        }
      ]
    },
    {
      "cell_type": "code",
      "source": [
        "# 29. Write a code to combine two dictionaries into one and print the result.\n",
        "dict1={\"name\":\"pragati\",\"age\":20}\n",
        "dict2={\"city\":\"Bhilai\",\"country\":\"India\"}\n",
        "dict1.update(dict2)\n",
        "print(dict1)\n",
        "\n"
      ],
      "metadata": {
        "colab": {
          "base_uri": "https://localhost:8080/"
        },
        "id": "DcBrxJSxCrIS",
        "outputId": "ff928924-95ac-4bef-d30e-5fade50a0e34"
      },
      "execution_count": 76,
      "outputs": [
        {
          "output_type": "stream",
          "name": "stdout",
          "text": [
            "{'name': 'pragati', 'age': 20, 'city': 'Bhilai', 'country': 'India'}\n"
          ]
        }
      ]
    },
    {
      "cell_type": "code",
      "source": [
        "# 30.Write a code to convert a list of strings into a set.\n",
        "\n",
        "fruits = [\"apple\", \"banana\", \"apple\", \"orange\"]\n",
        "unique_f = set(fruits)\n",
        "print(unique_f)\n"
      ],
      "metadata": {
        "colab": {
          "base_uri": "https://localhost:8080/"
        },
        "id": "Ln2RkmEhEPYg",
        "outputId": "ab0064f6-aa72-47c3-f1fd-16f49ac8f175"
      },
      "execution_count": 94,
      "outputs": [
        {
          "output_type": "stream",
          "name": "stdout",
          "text": [
            "{'orange', 'banana', 'apple'}\n"
          ]
        }
      ]
    },
    {
      "cell_type": "markdown",
      "source": [],
      "metadata": {
        "id": "qyTGJwu5NhN4"
      }
    },
    {
      "cell_type": "markdown",
      "source": [],
      "metadata": {
        "id": "tCSNbRR8Ej6t"
      }
    },
    {
      "cell_type": "markdown",
      "source": [],
      "metadata": {
        "id": "swQf2VbhDj0C"
      }
    },
    {
      "cell_type": "code",
      "execution_count": null,
      "metadata": {
        "id": "5SNoFxLhDfgd"
      },
      "outputs": [],
      "source": []
    }
  ]
}